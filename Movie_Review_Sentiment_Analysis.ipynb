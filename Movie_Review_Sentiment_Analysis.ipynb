{
 "cells": [
  {
   "cell_type": "code",
   "execution_count": 0,
   "metadata": {
    "colab": {
     "autoexec": {
      "startup": false,
      "wait_interval": 0
     }
    },
    "colab_type": "code",
    "id": "ngbkI-wHOYpX"
   },
   "outputs": [],
   "source": [
    "import keras as k \n",
    "from keras.preprocessing.sequence import pad_sequences\n",
    "from keras.preprocessing.text import Tokenizer\n",
    "from keras.callbacks import ModelCheckpoint\n",
    "from keras.layers import Dense , Embedding , LSTM , GRU\n",
    "from keras import Model , Input\n",
    "from keras.utils import to_categorical\n",
    "from sklearn.model_selection import train_test_split\n",
    "import numpy as np\n",
    "import pandas as pd"
   ]
  },
  {
   "cell_type": "code",
   "execution_count": 54,
   "metadata": {
    "colab": {
     "autoexec": {
      "startup": false,
      "wait_interval": 0
     },
     "base_uri": "https://localhost:8080/",
     "height": 34
    },
    "colab_type": "code",
    "executionInfo": {
     "elapsed": 9882,
     "status": "ok",
     "timestamp": 1529973879021,
     "user": {
      "displayName": "Mohamed Ramzy",
      "photoUrl": "https://lh3.googleusercontent.com/a/default-user=s128",
      "userId": "110230820219558545195"
     },
     "user_tz": -120
    },
    "id": "yd7UopQiQR7B",
    "outputId": "15b50343-7593-433d-b422-ec69387722a9"
   },
   "outputs": [
    {
     "name": "stdout",
     "output_type": "stream",
     "text": [
      "Glove preprocessed\n"
     ]
    }
   ],
   "source": [
    "file = open(\"glove.6B.100d.txt\")\n",
    "num_vocab = 0\n",
    "word_to_vec = {}\n",
    "for line in file.readlines():\n",
    "  \n",
    "  row = line.strip().split(' ')\n",
    "  word = row[0]\n",
    "  vec = row[1:] \n",
    "  num_vocab += 1\n",
    "  word_to_vec[word] = vec\n",
    "  \n",
    "print(\"Glove preprocessed\")\n",
    "\n",
    "file.close()"
   ]
  },
  {
   "cell_type": "code",
   "execution_count": 55,
   "metadata": {
    "colab": {
     "autoexec": {
      "startup": false,
      "wait_interval": 0
     },
     "base_uri": "https://localhost:8080/",
     "height": 37
    },
    "colab_type": "code",
    "executionInfo": {
     "elapsed": 914,
     "status": "ok",
     "timestamp": 1529973879962,
     "user": {
      "displayName": "Mohamed Ramzy",
      "photoUrl": "https://lh3.googleusercontent.com/a/default-user=s128",
      "userId": "110230820219558545195"
     },
     "user_tz": -120
    },
    "id": "GL5TuEOsSC1n",
    "outputId": "6d23b141-d289-4499-c263-808919ac132b"
   },
   "outputs": [],
   "source": [
    "train = pd.read_csv(\"train.tsv\" , delimiter = '\\t')\n",
    "test = pd.read_csv(\"test.tsv\" , delimiter = '\\t')\n",
    "submission = pd.read_csv(\"../content/.kaggle/competitions/movie-review-sentiment-analysis-kernels-only/sampleSubmission.csv\")"
   ]
  },
  {
   "cell_type": "code",
   "execution_count": 55,
   "metadata": {
    "colab": {
     "autoexec": {
      "startup": false,
      "wait_interval": 0
     },
     "base_uri": "https://localhost:8080/",
     "height": 1969
    },
    "colab_type": "code",
    "executionInfo": {
     "elapsed": 525,
     "status": "ok",
     "timestamp": 1529971143728,
     "user": {
      "displayName": "Mohamed Ramzy",
      "photoUrl": "https://lh3.googleusercontent.com/a/default-user=s128",
      "userId": "110230820219558545195"
     },
     "user_tz": -120
    },
    "id": "yHlBVhLPYutQ",
    "outputId": "e09e9b28-fd2c-4549-b6f7-532beaf382d3"
   },
   "outputs": [
    {
     "data": {
      "text/html": [
       "<div>\n",
       "<style scoped>\n",
       "    .dataframe tbody tr th:only-of-type {\n",
       "        vertical-align: middle;\n",
       "    }\n",
       "\n",
       "    .dataframe tbody tr th {\n",
       "        vertical-align: top;\n",
       "    }\n",
       "\n",
       "    .dataframe thead th {\n",
       "        text-align: right;\n",
       "    }\n",
       "</style>\n",
       "<table border=\"1\" class=\"dataframe\">\n",
       "  <thead>\n",
       "    <tr style=\"text-align: right;\">\n",
       "      <th></th>\n",
       "      <th>PhraseId</th>\n",
       "      <th>SentenceId</th>\n",
       "      <th>Phrase</th>\n",
       "      <th>Sentiment</th>\n",
       "    </tr>\n",
       "  </thead>\n",
       "  <tbody>\n",
       "    <tr>\n",
       "      <th>0</th>\n",
       "      <td>1</td>\n",
       "      <td>1</td>\n",
       "      <td>A series of escapades demonstrating the adage ...</td>\n",
       "      <td>1</td>\n",
       "    </tr>\n",
       "    <tr>\n",
       "      <th>1</th>\n",
       "      <td>2</td>\n",
       "      <td>1</td>\n",
       "      <td>A series of escapades demonstrating the adage ...</td>\n",
       "      <td>2</td>\n",
       "    </tr>\n",
       "    <tr>\n",
       "      <th>2</th>\n",
       "      <td>3</td>\n",
       "      <td>1</td>\n",
       "      <td>A series</td>\n",
       "      <td>2</td>\n",
       "    </tr>\n",
       "    <tr>\n",
       "      <th>3</th>\n",
       "      <td>4</td>\n",
       "      <td>1</td>\n",
       "      <td>A</td>\n",
       "      <td>2</td>\n",
       "    </tr>\n",
       "    <tr>\n",
       "      <th>4</th>\n",
       "      <td>5</td>\n",
       "      <td>1</td>\n",
       "      <td>series</td>\n",
       "      <td>2</td>\n",
       "    </tr>\n",
       "    <tr>\n",
       "      <th>5</th>\n",
       "      <td>6</td>\n",
       "      <td>1</td>\n",
       "      <td>of escapades demonstrating the adage that what...</td>\n",
       "      <td>2</td>\n",
       "    </tr>\n",
       "    <tr>\n",
       "      <th>6</th>\n",
       "      <td>7</td>\n",
       "      <td>1</td>\n",
       "      <td>of</td>\n",
       "      <td>2</td>\n",
       "    </tr>\n",
       "    <tr>\n",
       "      <th>7</th>\n",
       "      <td>8</td>\n",
       "      <td>1</td>\n",
       "      <td>escapades demonstrating the adage that what is...</td>\n",
       "      <td>2</td>\n",
       "    </tr>\n",
       "    <tr>\n",
       "      <th>8</th>\n",
       "      <td>9</td>\n",
       "      <td>1</td>\n",
       "      <td>escapades</td>\n",
       "      <td>2</td>\n",
       "    </tr>\n",
       "    <tr>\n",
       "      <th>9</th>\n",
       "      <td>10</td>\n",
       "      <td>1</td>\n",
       "      <td>demonstrating the adage that what is good for ...</td>\n",
       "      <td>2</td>\n",
       "    </tr>\n",
       "    <tr>\n",
       "      <th>10</th>\n",
       "      <td>11</td>\n",
       "      <td>1</td>\n",
       "      <td>demonstrating the adage</td>\n",
       "      <td>2</td>\n",
       "    </tr>\n",
       "    <tr>\n",
       "      <th>11</th>\n",
       "      <td>12</td>\n",
       "      <td>1</td>\n",
       "      <td>demonstrating</td>\n",
       "      <td>2</td>\n",
       "    </tr>\n",
       "    <tr>\n",
       "      <th>12</th>\n",
       "      <td>13</td>\n",
       "      <td>1</td>\n",
       "      <td>the adage</td>\n",
       "      <td>2</td>\n",
       "    </tr>\n",
       "    <tr>\n",
       "      <th>13</th>\n",
       "      <td>14</td>\n",
       "      <td>1</td>\n",
       "      <td>the</td>\n",
       "      <td>2</td>\n",
       "    </tr>\n",
       "    <tr>\n",
       "      <th>14</th>\n",
       "      <td>15</td>\n",
       "      <td>1</td>\n",
       "      <td>adage</td>\n",
       "      <td>2</td>\n",
       "    </tr>\n",
       "    <tr>\n",
       "      <th>15</th>\n",
       "      <td>16</td>\n",
       "      <td>1</td>\n",
       "      <td>that what is good for the goose</td>\n",
       "      <td>2</td>\n",
       "    </tr>\n",
       "    <tr>\n",
       "      <th>16</th>\n",
       "      <td>17</td>\n",
       "      <td>1</td>\n",
       "      <td>that</td>\n",
       "      <td>2</td>\n",
       "    </tr>\n",
       "    <tr>\n",
       "      <th>17</th>\n",
       "      <td>18</td>\n",
       "      <td>1</td>\n",
       "      <td>what is good for the goose</td>\n",
       "      <td>2</td>\n",
       "    </tr>\n",
       "    <tr>\n",
       "      <th>18</th>\n",
       "      <td>19</td>\n",
       "      <td>1</td>\n",
       "      <td>what</td>\n",
       "      <td>2</td>\n",
       "    </tr>\n",
       "    <tr>\n",
       "      <th>19</th>\n",
       "      <td>20</td>\n",
       "      <td>1</td>\n",
       "      <td>is good for the goose</td>\n",
       "      <td>2</td>\n",
       "    </tr>\n",
       "    <tr>\n",
       "      <th>20</th>\n",
       "      <td>21</td>\n",
       "      <td>1</td>\n",
       "      <td>is</td>\n",
       "      <td>2</td>\n",
       "    </tr>\n",
       "    <tr>\n",
       "      <th>21</th>\n",
       "      <td>22</td>\n",
       "      <td>1</td>\n",
       "      <td>good for the goose</td>\n",
       "      <td>3</td>\n",
       "    </tr>\n",
       "    <tr>\n",
       "      <th>22</th>\n",
       "      <td>23</td>\n",
       "      <td>1</td>\n",
       "      <td>good</td>\n",
       "      <td>3</td>\n",
       "    </tr>\n",
       "    <tr>\n",
       "      <th>23</th>\n",
       "      <td>24</td>\n",
       "      <td>1</td>\n",
       "      <td>for the goose</td>\n",
       "      <td>2</td>\n",
       "    </tr>\n",
       "    <tr>\n",
       "      <th>24</th>\n",
       "      <td>25</td>\n",
       "      <td>1</td>\n",
       "      <td>for</td>\n",
       "      <td>2</td>\n",
       "    </tr>\n",
       "    <tr>\n",
       "      <th>25</th>\n",
       "      <td>26</td>\n",
       "      <td>1</td>\n",
       "      <td>the goose</td>\n",
       "      <td>2</td>\n",
       "    </tr>\n",
       "    <tr>\n",
       "      <th>26</th>\n",
       "      <td>27</td>\n",
       "      <td>1</td>\n",
       "      <td>goose</td>\n",
       "      <td>2</td>\n",
       "    </tr>\n",
       "    <tr>\n",
       "      <th>27</th>\n",
       "      <td>28</td>\n",
       "      <td>1</td>\n",
       "      <td>is also good for the gander , some of which oc...</td>\n",
       "      <td>2</td>\n",
       "    </tr>\n",
       "    <tr>\n",
       "      <th>28</th>\n",
       "      <td>29</td>\n",
       "      <td>1</td>\n",
       "      <td>is also good for the gander , some of which oc...</td>\n",
       "      <td>2</td>\n",
       "    </tr>\n",
       "    <tr>\n",
       "      <th>29</th>\n",
       "      <td>30</td>\n",
       "      <td>1</td>\n",
       "      <td>is also</td>\n",
       "      <td>2</td>\n",
       "    </tr>\n",
       "    <tr>\n",
       "      <th>...</th>\n",
       "      <td>...</td>\n",
       "      <td>...</td>\n",
       "      <td>...</td>\n",
       "      <td>...</td>\n",
       "    </tr>\n",
       "    <tr>\n",
       "      <th>156030</th>\n",
       "      <td>156031</td>\n",
       "      <td>8542</td>\n",
       "      <td>a joke in the United States</td>\n",
       "      <td>2</td>\n",
       "    </tr>\n",
       "    <tr>\n",
       "      <th>156031</th>\n",
       "      <td>156032</td>\n",
       "      <td>8543</td>\n",
       "      <td>The movie 's downfall is to substitute plot fo...</td>\n",
       "      <td>1</td>\n",
       "    </tr>\n",
       "    <tr>\n",
       "      <th>156032</th>\n",
       "      <td>156033</td>\n",
       "      <td>8543</td>\n",
       "      <td>The movie 's downfall</td>\n",
       "      <td>1</td>\n",
       "    </tr>\n",
       "    <tr>\n",
       "      <th>156033</th>\n",
       "      <td>156034</td>\n",
       "      <td>8543</td>\n",
       "      <td>is to substitute plot for personality .</td>\n",
       "      <td>1</td>\n",
       "    </tr>\n",
       "    <tr>\n",
       "      <th>156034</th>\n",
       "      <td>156035</td>\n",
       "      <td>8543</td>\n",
       "      <td>is to substitute plot for personality</td>\n",
       "      <td>1</td>\n",
       "    </tr>\n",
       "    <tr>\n",
       "      <th>156035</th>\n",
       "      <td>156036</td>\n",
       "      <td>8543</td>\n",
       "      <td>to substitute plot for personality</td>\n",
       "      <td>2</td>\n",
       "    </tr>\n",
       "    <tr>\n",
       "      <th>156036</th>\n",
       "      <td>156037</td>\n",
       "      <td>8543</td>\n",
       "      <td>substitute plot for personality</td>\n",
       "      <td>1</td>\n",
       "    </tr>\n",
       "    <tr>\n",
       "      <th>156037</th>\n",
       "      <td>156038</td>\n",
       "      <td>8543</td>\n",
       "      <td>substitute plot</td>\n",
       "      <td>2</td>\n",
       "    </tr>\n",
       "    <tr>\n",
       "      <th>156038</th>\n",
       "      <td>156039</td>\n",
       "      <td>8543</td>\n",
       "      <td>for personality</td>\n",
       "      <td>2</td>\n",
       "    </tr>\n",
       "    <tr>\n",
       "      <th>156039</th>\n",
       "      <td>156040</td>\n",
       "      <td>8544</td>\n",
       "      <td>The film is darkly atmospheric , with Herrmann...</td>\n",
       "      <td>2</td>\n",
       "    </tr>\n",
       "    <tr>\n",
       "      <th>156040</th>\n",
       "      <td>156041</td>\n",
       "      <td>8544</td>\n",
       "      <td>is darkly atmospheric , with Herrmann quietly ...</td>\n",
       "      <td>2</td>\n",
       "    </tr>\n",
       "    <tr>\n",
       "      <th>156041</th>\n",
       "      <td>156042</td>\n",
       "      <td>8544</td>\n",
       "      <td>is darkly atmospheric , with Herrmann quietly ...</td>\n",
       "      <td>2</td>\n",
       "    </tr>\n",
       "    <tr>\n",
       "      <th>156042</th>\n",
       "      <td>156043</td>\n",
       "      <td>8544</td>\n",
       "      <td>is darkly atmospheric ,</td>\n",
       "      <td>2</td>\n",
       "    </tr>\n",
       "    <tr>\n",
       "      <th>156043</th>\n",
       "      <td>156044</td>\n",
       "      <td>8544</td>\n",
       "      <td>is darkly atmospheric</td>\n",
       "      <td>3</td>\n",
       "    </tr>\n",
       "    <tr>\n",
       "      <th>156044</th>\n",
       "      <td>156045</td>\n",
       "      <td>8544</td>\n",
       "      <td>with Herrmann quietly suggesting the sadness a...</td>\n",
       "      <td>2</td>\n",
       "    </tr>\n",
       "    <tr>\n",
       "      <th>156045</th>\n",
       "      <td>156046</td>\n",
       "      <td>8544</td>\n",
       "      <td>Herrmann quietly suggesting the sadness and ob...</td>\n",
       "      <td>2</td>\n",
       "    </tr>\n",
       "    <tr>\n",
       "      <th>156046</th>\n",
       "      <td>156047</td>\n",
       "      <td>8544</td>\n",
       "      <td>Herrmann</td>\n",
       "      <td>2</td>\n",
       "    </tr>\n",
       "    <tr>\n",
       "      <th>156047</th>\n",
       "      <td>156048</td>\n",
       "      <td>8544</td>\n",
       "      <td>quietly suggesting the sadness and obsession b...</td>\n",
       "      <td>1</td>\n",
       "    </tr>\n",
       "    <tr>\n",
       "      <th>156048</th>\n",
       "      <td>156049</td>\n",
       "      <td>8544</td>\n",
       "      <td>suggesting the sadness and obsession beneath H...</td>\n",
       "      <td>2</td>\n",
       "    </tr>\n",
       "    <tr>\n",
       "      <th>156049</th>\n",
       "      <td>156050</td>\n",
       "      <td>8544</td>\n",
       "      <td>suggesting the sadness and obsession</td>\n",
       "      <td>2</td>\n",
       "    </tr>\n",
       "    <tr>\n",
       "      <th>156050</th>\n",
       "      <td>156051</td>\n",
       "      <td>8544</td>\n",
       "      <td>the sadness and obsession</td>\n",
       "      <td>2</td>\n",
       "    </tr>\n",
       "    <tr>\n",
       "      <th>156051</th>\n",
       "      <td>156052</td>\n",
       "      <td>8544</td>\n",
       "      <td>sadness and obsession</td>\n",
       "      <td>1</td>\n",
       "    </tr>\n",
       "    <tr>\n",
       "      <th>156052</th>\n",
       "      <td>156053</td>\n",
       "      <td>8544</td>\n",
       "      <td>sadness and</td>\n",
       "      <td>1</td>\n",
       "    </tr>\n",
       "    <tr>\n",
       "      <th>156053</th>\n",
       "      <td>156054</td>\n",
       "      <td>8544</td>\n",
       "      <td>beneath Hearst 's forced avuncular chortles</td>\n",
       "      <td>2</td>\n",
       "    </tr>\n",
       "    <tr>\n",
       "      <th>156054</th>\n",
       "      <td>156055</td>\n",
       "      <td>8544</td>\n",
       "      <td>Hearst 's forced avuncular chortles</td>\n",
       "      <td>2</td>\n",
       "    </tr>\n",
       "    <tr>\n",
       "      <th>156055</th>\n",
       "      <td>156056</td>\n",
       "      <td>8544</td>\n",
       "      <td>Hearst 's</td>\n",
       "      <td>2</td>\n",
       "    </tr>\n",
       "    <tr>\n",
       "      <th>156056</th>\n",
       "      <td>156057</td>\n",
       "      <td>8544</td>\n",
       "      <td>forced avuncular chortles</td>\n",
       "      <td>1</td>\n",
       "    </tr>\n",
       "    <tr>\n",
       "      <th>156057</th>\n",
       "      <td>156058</td>\n",
       "      <td>8544</td>\n",
       "      <td>avuncular chortles</td>\n",
       "      <td>3</td>\n",
       "    </tr>\n",
       "    <tr>\n",
       "      <th>156058</th>\n",
       "      <td>156059</td>\n",
       "      <td>8544</td>\n",
       "      <td>avuncular</td>\n",
       "      <td>2</td>\n",
       "    </tr>\n",
       "    <tr>\n",
       "      <th>156059</th>\n",
       "      <td>156060</td>\n",
       "      <td>8544</td>\n",
       "      <td>chortles</td>\n",
       "      <td>2</td>\n",
       "    </tr>\n",
       "  </tbody>\n",
       "</table>\n",
       "<p>156060 rows × 4 columns</p>\n",
       "</div>"
      ],
      "text/plain": [
       "        PhraseId  SentenceId  \\\n",
       "0              1           1   \n",
       "1              2           1   \n",
       "2              3           1   \n",
       "3              4           1   \n",
       "4              5           1   \n",
       "5              6           1   \n",
       "6              7           1   \n",
       "7              8           1   \n",
       "8              9           1   \n",
       "9             10           1   \n",
       "10            11           1   \n",
       "11            12           1   \n",
       "12            13           1   \n",
       "13            14           1   \n",
       "14            15           1   \n",
       "15            16           1   \n",
       "16            17           1   \n",
       "17            18           1   \n",
       "18            19           1   \n",
       "19            20           1   \n",
       "20            21           1   \n",
       "21            22           1   \n",
       "22            23           1   \n",
       "23            24           1   \n",
       "24            25           1   \n",
       "25            26           1   \n",
       "26            27           1   \n",
       "27            28           1   \n",
       "28            29           1   \n",
       "29            30           1   \n",
       "...          ...         ...   \n",
       "156030    156031        8542   \n",
       "156031    156032        8543   \n",
       "156032    156033        8543   \n",
       "156033    156034        8543   \n",
       "156034    156035        8543   \n",
       "156035    156036        8543   \n",
       "156036    156037        8543   \n",
       "156037    156038        8543   \n",
       "156038    156039        8543   \n",
       "156039    156040        8544   \n",
       "156040    156041        8544   \n",
       "156041    156042        8544   \n",
       "156042    156043        8544   \n",
       "156043    156044        8544   \n",
       "156044    156045        8544   \n",
       "156045    156046        8544   \n",
       "156046    156047        8544   \n",
       "156047    156048        8544   \n",
       "156048    156049        8544   \n",
       "156049    156050        8544   \n",
       "156050    156051        8544   \n",
       "156051    156052        8544   \n",
       "156052    156053        8544   \n",
       "156053    156054        8544   \n",
       "156054    156055        8544   \n",
       "156055    156056        8544   \n",
       "156056    156057        8544   \n",
       "156057    156058        8544   \n",
       "156058    156059        8544   \n",
       "156059    156060        8544   \n",
       "\n",
       "                                                   Phrase  Sentiment  \n",
       "0       A series of escapades demonstrating the adage ...          1  \n",
       "1       A series of escapades demonstrating the adage ...          2  \n",
       "2                                                A series          2  \n",
       "3                                                       A          2  \n",
       "4                                                  series          2  \n",
       "5       of escapades demonstrating the adage that what...          2  \n",
       "6                                                      of          2  \n",
       "7       escapades demonstrating the adage that what is...          2  \n",
       "8                                               escapades          2  \n",
       "9       demonstrating the adage that what is good for ...          2  \n",
       "10                                demonstrating the adage          2  \n",
       "11                                          demonstrating          2  \n",
       "12                                              the adage          2  \n",
       "13                                                    the          2  \n",
       "14                                                  adage          2  \n",
       "15                        that what is good for the goose          2  \n",
       "16                                                   that          2  \n",
       "17                             what is good for the goose          2  \n",
       "18                                                   what          2  \n",
       "19                                  is good for the goose          2  \n",
       "20                                                     is          2  \n",
       "21                                     good for the goose          3  \n",
       "22                                                   good          3  \n",
       "23                                          for the goose          2  \n",
       "24                                                    for          2  \n",
       "25                                              the goose          2  \n",
       "26                                                  goose          2  \n",
       "27      is also good for the gander , some of which oc...          2  \n",
       "28      is also good for the gander , some of which oc...          2  \n",
       "29                                                is also          2  \n",
       "...                                                   ...        ...  \n",
       "156030                        a joke in the United States          2  \n",
       "156031  The movie 's downfall is to substitute plot fo...          1  \n",
       "156032                              The movie 's downfall          1  \n",
       "156033            is to substitute plot for personality .          1  \n",
       "156034              is to substitute plot for personality          1  \n",
       "156035                 to substitute plot for personality          2  \n",
       "156036                    substitute plot for personality          1  \n",
       "156037                                    substitute plot          2  \n",
       "156038                                    for personality          2  \n",
       "156039  The film is darkly atmospheric , with Herrmann...          2  \n",
       "156040  is darkly atmospheric , with Herrmann quietly ...          2  \n",
       "156041  is darkly atmospheric , with Herrmann quietly ...          2  \n",
       "156042                            is darkly atmospheric ,          2  \n",
       "156043                              is darkly atmospheric          3  \n",
       "156044  with Herrmann quietly suggesting the sadness a...          2  \n",
       "156045  Herrmann quietly suggesting the sadness and ob...          2  \n",
       "156046                                           Herrmann          2  \n",
       "156047  quietly suggesting the sadness and obsession b...          1  \n",
       "156048  suggesting the sadness and obsession beneath H...          2  \n",
       "156049               suggesting the sadness and obsession          2  \n",
       "156050                          the sadness and obsession          2  \n",
       "156051                              sadness and obsession          1  \n",
       "156052                                        sadness and          1  \n",
       "156053        beneath Hearst 's forced avuncular chortles          2  \n",
       "156054                Hearst 's forced avuncular chortles          2  \n",
       "156055                                          Hearst 's          2  \n",
       "156056                          forced avuncular chortles          1  \n",
       "156057                                 avuncular chortles          3  \n",
       "156058                                          avuncular          2  \n",
       "156059                                           chortles          2  \n",
       "\n",
       "[156060 rows x 4 columns]"
      ]
     },
     "execution_count": 55,
     "metadata": {
      "tags": []
     },
     "output_type": "execute_result"
    }
   ],
   "source": [
    "train"
   ]
  },
  {
   "cell_type": "code",
   "execution_count": 56,
   "metadata": {
    "colab": {
     "autoexec": {
      "startup": false,
      "wait_interval": 0
     },
     "base_uri": "https://localhost:8080/",
     "height": 37
    },
    "colab_type": "code",
    "executionInfo": {
     "elapsed": 1046,
     "status": "ok",
     "timestamp": 1529973888006,
     "user": {
      "displayName": "Mohamed Ramzy",
      "photoUrl": "https://lh3.googleusercontent.com/a/default-user=s128",
      "userId": "110230820219558545195"
     },
     "user_tz": -120
    },
    "id": "gqY5QBKITBZZ",
    "outputId": "c2b00d32-cd8b-4ef2-c892-356168ada984"
   },
   "outputs": [],
   "source": [
    "X_train = train['Phrase'].fillna('na').values\n",
    "y_train = train['Sentiment'].values\n",
    "X_test = test['Phrase'].fillna('na').values"
   ]
  },
  {
   "cell_type": "code",
   "execution_count": 57,
   "metadata": {
    "colab": {
     "autoexec": {
      "startup": false,
      "wait_interval": 0
     },
     "base_uri": "https://localhost:8080/",
     "height": 37
    },
    "colab_type": "code",
    "executionInfo": {
     "elapsed": 1738,
     "status": "ok",
     "timestamp": 1529973890261,
     "user": {
      "displayName": "Mohamed Ramzy",
      "photoUrl": "https://lh3.googleusercontent.com/a/default-user=s128",
      "userId": "110230820219558545195"
     },
     "user_tz": -120
    },
    "id": "xH1mJop4aq5o",
    "outputId": "c8904819-2ca5-4bb7-e5d5-0f4c902824f8"
   },
   "outputs": [],
   "source": [
    "y_train = to_categorical(y_train)"
   ]
  },
  {
   "cell_type": "code",
   "execution_count": 58,
   "metadata": {
    "colab": {
     "autoexec": {
      "startup": false,
      "wait_interval": 0
     },
     "base_uri": "https://localhost:8080/",
     "height": 37
    },
    "colab_type": "code",
    "executionInfo": {
     "elapsed": 4969,
     "status": "ok",
     "timestamp": 1529973895302,
     "user": {
      "displayName": "Mohamed Ramzy",
      "photoUrl": "https://lh3.googleusercontent.com/a/default-user=s128",
      "userId": "110230820219558545195"
     },
     "user_tz": -120
    },
    "id": "oTTP3wptToI7",
    "outputId": "2a61c32c-c0b6-4ef7-c7b1-5ba4d4140035"
   },
   "outputs": [],
   "source": [
    "tokenizer = Tokenizer()\n",
    "tokenizer.fit_on_texts(list(X_train) + list(X_test))"
   ]
  },
  {
   "cell_type": "code",
   "execution_count": 59,
   "metadata": {
    "colab": {
     "autoexec": {
      "startup": false,
      "wait_interval": 0
     },
     "base_uri": "https://localhost:8080/",
     "height": 37
    },
    "colab_type": "code",
    "executionInfo": {
     "elapsed": 6412,
     "status": "ok",
     "timestamp": 1529973902632,
     "user": {
      "displayName": "Mohamed Ramzy",
      "photoUrl": "https://lh3.googleusercontent.com/a/default-user=s128",
      "userId": "110230820219558545195"
     },
     "user_tz": -120
    },
    "id": "bmTIfFlpWJB0",
    "outputId": "ebfde699-65ee-4808-8afe-15ae2e1eb215"
   },
   "outputs": [],
   "source": [
    "X_train = tokenizer.texts_to_sequences(X_train)\n",
    "X_test = tokenizer.texts_to_sequences(X_test)"
   ]
  },
  {
   "cell_type": "code",
   "execution_count": 60,
   "metadata": {
    "colab": {
     "autoexec": {
      "startup": false,
      "wait_interval": 0
     },
     "base_uri": "https://localhost:8080/",
     "height": 37
    },
    "colab_type": "code",
    "executionInfo": {
     "elapsed": 1834,
     "status": "ok",
     "timestamp": 1529973904562,
     "user": {
      "displayName": "Mohamed Ramzy",
      "photoUrl": "https://lh3.googleusercontent.com/a/default-user=s128",
      "userId": "110230820219558545195"
     },
     "user_tz": -120
    },
    "id": "i97z1GEuXNCa",
    "outputId": "37ead268-c7fd-4a13-990c-101b69d17d22"
   },
   "outputs": [],
   "source": [
    "maxlen = 50\n",
    "\n",
    "X_train = pad_sequences(X_train , maxlen)\n",
    "X_test = pad_sequences(X_test , maxlen)"
   ]
  },
  {
   "cell_type": "code",
   "execution_count": 61,
   "metadata": {
    "colab": {
     "autoexec": {
      "startup": false,
      "wait_interval": 0
     },
     "base_uri": "https://localhost:8080/",
     "height": 34
    },
    "colab_type": "code",
    "executionInfo": {
     "elapsed": 559,
     "status": "ok",
     "timestamp": 1529973905200,
     "user": {
      "displayName": "Mohamed Ramzy",
      "photoUrl": "https://lh3.googleusercontent.com/a/default-user=s128",
      "userId": "110230820219558545195"
     },
     "user_tz": -120
    },
    "id": "zrg715uqXRRU",
    "outputId": "2bfe8285-8e13-4b07-afcb-63057b8d77a3"
   },
   "outputs": [
    {
     "name": "stdout",
     "output_type": "stream",
     "text": [
      "17780\n"
     ]
    }
   ],
   "source": [
    "word_index = tokenizer.word_index\n",
    "min_words = min(len(word_index) , num_vocab)\n",
    "print(min_words)"
   ]
  },
  {
   "cell_type": "code",
   "execution_count": 62,
   "metadata": {
    "colab": {
     "autoexec": {
      "startup": false,
      "wait_interval": 0
     },
     "base_uri": "https://localhost:8080/",
     "height": 37
    },
    "colab_type": "code",
    "executionInfo": {
     "elapsed": 577,
     "status": "ok",
     "timestamp": 1529973905848,
     "user": {
      "displayName": "Mohamed Ramzy",
      "photoUrl": "https://lh3.googleusercontent.com/a/default-user=s128",
      "userId": "110230820219558545195"
     },
     "user_tz": -120
    },
    "id": "sK-CNGVzYI0F",
    "outputId": "56fdd960-a7fe-4bd8-dadd-f69ebab34932"
   },
   "outputs": [],
   "source": [
    "embedding_matrix = np.zeros((min_words , 100))"
   ]
  },
  {
   "cell_type": "code",
   "execution_count": 63,
   "metadata": {
    "colab": {
     "autoexec": {
      "startup": false,
      "wait_interval": 0
     },
     "base_uri": "https://localhost:8080/",
     "height": 37
    },
    "colab_type": "code",
    "executionInfo": {
     "elapsed": 818,
     "status": "ok",
     "timestamp": 1529973906765,
     "user": {
      "displayName": "Mohamed Ramzy",
      "photoUrl": "https://lh3.googleusercontent.com/a/default-user=s128",
      "userId": "110230820219558545195"
     },
     "user_tz": -120
    },
    "id": "eXKuGq_IYUwH",
    "outputId": "21685599-cf73-4943-8580-cb630b6e462b"
   },
   "outputs": [],
   "source": [
    "added_words = 0\n",
    "for word , i in word_index.items():\n",
    "    if i >= min_words:\n",
    "        continue\n",
    "    vector = word_to_vec.get(word)\n",
    "    if vector:\n",
    "        added_words+=1\n",
    "        embedding_matrix[i] = vector"
   ]
  },
  {
   "cell_type": "code",
   "execution_count": 64,
   "metadata": {
    "colab": {
     "autoexec": {
      "startup": false,
      "wait_interval": 0
     },
     "base_uri": "https://localhost:8080/",
     "height": 37
    },
    "colab_type": "code",
    "executionInfo": {
     "elapsed": 1939,
     "status": "ok",
     "timestamp": 1529973908781,
     "user": {
      "displayName": "Mohamed Ramzy",
      "photoUrl": "https://lh3.googleusercontent.com/a/default-user=s128",
      "userId": "110230820219558545195"
     },
     "user_tz": -120
    },
    "id": "66JDqxE0b5zR",
    "outputId": "0c09c000-998d-4a0e-fbe3-654b294b22bb"
   },
   "outputs": [],
   "source": [
    "del word_to_vec\n",
    "del tokenizer"
   ]
  },
  {
   "cell_type": "code",
   "execution_count": 65,
   "metadata": {
    "colab": {
     "autoexec": {
      "startup": false,
      "wait_interval": 0
     },
     "base_uri": "https://localhost:8080/",
     "height": 71
    },
    "colab_type": "code",
    "executionInfo": {
     "elapsed": 557,
     "status": "ok",
     "timestamp": 1529973909470,
     "user": {
      "displayName": "Mohamed Ramzy",
      "photoUrl": "https://lh3.googleusercontent.com/a/default-user=s128",
      "userId": "110230820219558545195"
     },
     "user_tz": -120
    },
    "id": "TMUTJOrmYXaU",
    "outputId": "f5339d97-226b-4e34-c30d-7a576f7f25c5"
   },
   "outputs": [
    {
     "name": "stderr",
     "output_type": "stream",
     "text": [
      "/usr/local/lib/python3.6/dist-packages/sklearn/model_selection/_split.py:2026: FutureWarning: From version 0.21, test_size will always complement train_size unless both are specified.\n",
      "  FutureWarning)\n"
     ]
    }
   ],
   "source": [
    "X_train , X_val , y_train , y_val = train_test_split(X_train , y_train , train_size = 0.95 , random_state = 0)"
   ]
  },
  {
   "cell_type": "code",
   "execution_count": 18,
   "metadata": {
    "colab": {
     "autoexec": {
      "startup": false,
      "wait_interval": 0
     },
     "base_uri": "https://localhost:8080/",
     "height": 37
    },
    "colab_type": "code",
    "executionInfo": {
     "elapsed": 993,
     "status": "ok",
     "timestamp": 1529972065134,
     "user": {
      "displayName": "Mohamed Ramzy",
      "photoUrl": "https://lh3.googleusercontent.com/a/default-user=s128",
      "userId": "110230820219558545195"
     },
     "user_tz": -120
    },
    "id": "6uSrOAePYYsB",
    "outputId": "c7a57898-c2d8-4047-e619-0a9cc09f1547"
   },
   "outputs": [],
   "source": [
    "def model(input_shape):\n",
    "    input = Input(input_shape)\n",
    "    X = Embedding(input_dim = min_words , output_dim = 100 , weights = [embedding_matrix] , trainable = False)(input)\n",
    "    X = GRU(70 , return_sequences = False , recurrent_dropout = 0.25 , dropout = 0.25)(X)\n",
    "    X = Dense(5 , activation = 'softmax')(X)\n",
    "  \n",
    "    return Model(inputs = input , outputs = X)"
   ]
  },
  {
   "cell_type": "code",
   "execution_count": 19,
   "metadata": {
    "colab": {
     "autoexec": {
      "startup": false,
      "wait_interval": 0
     },
     "base_uri": "https://localhost:8080/",
     "height": 37
    },
    "colab_type": "code",
    "executionInfo": {
     "elapsed": 884,
     "status": "ok",
     "timestamp": 1529972067138,
     "user": {
      "displayName": "Mohamed Ramzy",
      "photoUrl": "https://lh3.googleusercontent.com/a/default-user=s128",
      "userId": "110230820219558545195"
     },
     "user_tz": -120
    },
    "id": "cbL6MYrJZYfj",
    "outputId": "02abe331-9d9e-4409-f084-7cd60ffc31ab"
   },
   "outputs": [],
   "source": [
    "movie_model = model((50,))"
   ]
  },
  {
   "cell_type": "code",
   "execution_count": 20,
   "metadata": {
    "colab": {
     "autoexec": {
      "startup": false,
      "wait_interval": 0
     },
     "base_uri": "https://localhost:8080/",
     "height": 272
    },
    "colab_type": "code",
    "executionInfo": {
     "elapsed": 1015,
     "status": "ok",
     "timestamp": 1529972068285,
     "user": {
      "displayName": "Mohamed Ramzy",
      "photoUrl": "https://lh3.googleusercontent.com/a/default-user=s128",
      "userId": "110230820219558545195"
     },
     "user_tz": -120
    },
    "id": "6WgrzdxKZaxA",
    "outputId": "c748cae3-4ce7-44bf-f474-50843cc3eeec"
   },
   "outputs": [
    {
     "name": "stdout",
     "output_type": "stream",
     "text": [
      "_________________________________________________________________\n",
      "Layer (type)                 Output Shape              Param #   \n",
      "=================================================================\n",
      "input_2 (InputLayer)         (None, 50)                0         \n",
      "_________________________________________________________________\n",
      "embedding_2 (Embedding)      (None, 50, 100)           1528800   \n",
      "_________________________________________________________________\n",
      "gru_2 (GRU)                  (None, 70)                35910     \n",
      "_________________________________________________________________\n",
      "dense_2 (Dense)              (None, 5)                 355       \n",
      "=================================================================\n",
      "Total params: 1,565,065\n",
      "Trainable params: 36,265\n",
      "Non-trainable params: 1,528,800\n",
      "_________________________________________________________________\n"
     ]
    }
   ],
   "source": [
    "movie_model.summary()"
   ]
  },
  {
   "cell_type": "code",
   "execution_count": 21,
   "metadata": {
    "colab": {
     "autoexec": {
      "startup": false,
      "wait_interval": 0
     },
     "base_uri": "https://localhost:8080/",
     "height": 37
    },
    "colab_type": "code",
    "executionInfo": {
     "elapsed": 909,
     "status": "ok",
     "timestamp": 1529972069367,
     "user": {
      "displayName": "Mohamed Ramzy",
      "photoUrl": "https://lh3.googleusercontent.com/a/default-user=s128",
      "userId": "110230820219558545195"
     },
     "user_tz": -120
    },
    "id": "6MAKa4HEZcHY",
    "outputId": "fc8fab6b-9721-42fe-c801-8fd978c03765"
   },
   "outputs": [],
   "source": [
    "model_saver = ModelCheckpoint(\"my_model.h5\" , monitor = \"val_loss\" , save_best_only = True)"
   ]
  },
  {
   "cell_type": "code",
   "execution_count": 22,
   "metadata": {
    "colab": {
     "autoexec": {
      "startup": false,
      "wait_interval": 0
     },
     "base_uri": "https://localhost:8080/",
     "height": 37
    },
    "colab_type": "code",
    "executionInfo": {
     "elapsed": 631,
     "status": "ok",
     "timestamp": 1529972070658,
     "user": {
      "displayName": "Mohamed Ramzy",
      "photoUrl": "https://lh3.googleusercontent.com/a/default-user=s128",
      "userId": "110230820219558545195"
     },
     "user_tz": -120
    },
    "id": "hvGI2fLTaMCy",
    "outputId": "69bd186e-06ae-4434-f64b-c005556b53c4"
   },
   "outputs": [],
   "source": [
    "movie_model.compile(loss = 'categorical_crossentropy' , optimizer = 'rmsprop' , metrics = ['accuracy'])"
   ]
  },
  {
   "cell_type": "code",
   "execution_count": 26,
   "metadata": {
    "colab": {
     "autoexec": {
      "startup": false,
      "wait_interval": 0
     },
     "base_uri": "https://localhost:8080/",
     "height": 411
    },
    "colab_type": "code",
    "executionInfo": {
     "elapsed": 241583,
     "status": "ok",
     "timestamp": 1529972859614,
     "user": {
      "displayName": "Mohamed Ramzy",
      "photoUrl": "https://lh3.googleusercontent.com/a/default-user=s128",
      "userId": "110230820219558545195"
     },
     "user_tz": -120
    },
    "id": "oDQ3aIDEaQ1h",
    "outputId": "0f9c56a8-699e-48db-c1bc-c17f7f64b9f0"
   },
   "outputs": [
    {
     "name": "stdout",
     "output_type": "stream",
     "text": [
      "Train on 148257 samples, validate on 7803 samples\n",
      "Epoch 1/10\n",
      "148257/148257 [==============================] - 24s 163us/step - loss: 0.7843 - acc: 0.6773 - val_loss: 0.8526 - val_acc: 0.6487\n",
      "Epoch 2/10\n",
      "148257/148257 [==============================] - 24s 165us/step - loss: 0.7791 - acc: 0.6802 - val_loss: 0.8624 - val_acc: 0.6426\n",
      "Epoch 3/10\n",
      " 88064/148257 [================>.............] - ETA: 9s - loss: 0.7747 - acc: 0.6811148257/148257 [==============================] - 24s 165us/step - loss: 0.7739 - acc: 0.6823 - val_loss: 0.8493 - val_acc: 0.6487\n",
      "Epoch 4/10\n",
      "148257/148257 [==============================] - 24s 164us/step - loss: 0.7689 - acc: 0.6843 - val_loss: 0.8496 - val_acc: 0.6498\n",
      "Epoch 5/10\n",
      "148257/148257 [==============================] - 24s 163us/step - loss: 0.7639 - acc: 0.6861 - val_loss: 0.8515 - val_acc: 0.6467\n",
      "Epoch 6/10\n",
      " 16384/148257 [==>...........................] - ETA: 21s - loss: 0.7453 - acc: 0.6951148257/148257 [==============================] - 24s 163us/step - loss: 0.7589 - acc: 0.6897 - val_loss: 0.8484 - val_acc: 0.6521\n",
      "Epoch 7/10\n",
      "148257/148257 [==============================] - 24s 163us/step - loss: 0.7542 - acc: 0.6912 - val_loss: 0.8610 - val_acc: 0.6437\n",
      "Epoch 8/10\n",
      "148257/148257 [==============================] - 24s 161us/step - loss: 0.7505 - acc: 0.6923 - val_loss: 0.8533 - val_acc: 0.6455\n",
      "Epoch 9/10\n",
      "  5120/148257 [>.............................] - ETA: 23s - loss: 0.7353 - acc: 0.7027148257/148257 [==============================] - 24s 161us/step - loss: 0.7461 - acc: 0.6942 - val_loss: 0.8500 - val_acc: 0.6430\n",
      "Epoch 10/10\n",
      "148257/148257 [==============================] - 24s 159us/step - loss: 0.7420 - acc: 0.6959 - val_loss: 0.8448 - val_acc: 0.6527\n"
     ]
    },
    {
     "data": {
      "text/plain": [
       "<keras.callbacks.History at 0x7fa35904ccf8>"
      ]
     },
     "execution_count": 26,
     "metadata": {
      "tags": []
     },
     "output_type": "execute_result"
    }
   ],
   "source": [
    "movie_model.fit(X_train, y_train, batch_size=1024, epochs=10, validation_data=(X_val, y_val),\n",
    "                 callbacks=[model_saver])"
   ]
  },
  {
   "cell_type": "code",
   "execution_count": 66,
   "metadata": {
    "colab": {
     "autoexec": {
      "startup": false,
      "wait_interval": 0
     },
     "base_uri": "https://localhost:8080/",
     "height": 34
    },
    "colab_type": "code",
    "executionInfo": {
     "elapsed": 2709,
     "status": "ok",
     "timestamp": 1529973932251,
     "user": {
      "displayName": "Mohamed Ramzy",
      "photoUrl": "https://lh3.googleusercontent.com/a/default-user=s128",
      "userId": "110230820219558545195"
     },
     "user_tz": -120
    },
    "id": "j8w3-VryahuO",
    "outputId": "4de2f347-c54b-45e6-eb17-48beaa7afb5b"
   },
   "outputs": [
    {
     "name": "stdout",
     "output_type": "stream",
     "text": [
      "66292/66292 [==============================] - 2s 31us/step\n"
     ]
    }
   ],
   "source": [
    "prediction = movie_model.predict(X_test , batch_size = 1024 , verbose = 1)"
   ]
  },
  {
   "cell_type": "code",
   "execution_count": 67,
   "metadata": {
    "colab": {
     "autoexec": {
      "startup": false,
      "wait_interval": 0
     },
     "base_uri": "https://localhost:8080/",
     "height": 17
    },
    "colab_type": "code",
    "executionInfo": {
     "elapsed": 1134,
     "status": "ok",
     "timestamp": 1529973946478,
     "user": {
      "displayName": "Mohamed Ramzy",
      "photoUrl": "https://lh3.googleusercontent.com/a/default-user=s128",
      "userId": "110230820219558545195"
     },
     "user_tz": -120
    },
    "id": "QI97MPLOeUso",
    "outputId": "ff7f648e-922f-4430-9e28-a21a4dc000d7"
   },
   "outputs": [],
   "source": [
    "submission['Sentiment'] = prediction.argmax(axis = 1)"
   ]
  },
  {
   "cell_type": "code",
   "execution_count": 68,
   "metadata": {
    "colab": {
     "autoexec": {
      "startup": false,
      "wait_interval": 0
     },
     "base_uri": "https://localhost:8080/",
     "height": 37
    },
    "colab_type": "code",
    "executionInfo": {
     "elapsed": 1074,
     "status": "ok",
     "timestamp": 1529973950621,
     "user": {
      "displayName": "Mohamed Ramzy",
      "photoUrl": "https://lh3.googleusercontent.com/a/default-user=s128",
      "userId": "110230820219558545195"
     },
     "user_tz": -120
    },
    "id": "ExHLL7kofmzy",
    "outputId": "8fcb5870-257e-4a9a-dfb5-07c81c0248e6"
   },
   "outputs": [],
   "source": [
    "submission.to_csv(\"submission.csv\")"
   ]
  },
  {
   "cell_type": "code",
   "execution_count": 0,
   "metadata": {
    "colab": {
     "autoexec": {
      "startup": false,
      "wait_interval": 0
     }
    },
    "colab_type": "code",
    "id": "BwjVOGiyi43G"
   },
   "outputs": [],
   "source": []
  }
 ],
 "metadata": {
  "accelerator": "GPU",
  "colab": {
   "default_view": {},
   "name": "Movie Review Sentiment Analysis.ipynb",
   "provenance": [],
   "version": "0.3.2",
   "views": {}
  },
  "kernelspec": {
   "display_name": "Python 3",
   "language": "python",
   "name": "python3"
  },
  "language_info": {
   "codemirror_mode": {
    "name": "ipython",
    "version": 3
   },
   "file_extension": ".py",
   "mimetype": "text/x-python",
   "name": "python",
   "nbconvert_exporter": "python",
   "pygments_lexer": "ipython3",
   "version": "3.6.4"
  }
 },
 "nbformat": 4,
 "nbformat_minor": 1
}
